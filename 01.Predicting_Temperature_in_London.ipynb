{
  "cells": [
    {
      "source": [
        "\n",
        "\n",
        "As the climate changes, predicting the weather becomes ever more important for businesses. You have been asked to support on a machine learning project with the aim of building a pipeline to predict the climate in London, England. Specifically, the model should predict mean temperature in degrees Celsius (°C).\n",
        "\n",
        "Since the weather depends on a lot of different factors, you will want to run a lot of experiments to determine what the best approach is to predict the weather. In this project, you will run experiments for different regression models predicting the mean temperature, using a combination of `sklearn` and `mlflow`.\n",
        "\n",
        "You will be working with data stored in `london_weather.csv`, which contains the following columns:\n",
        "- **date** - recorded date of measurement - (**int**)\n",
        "- **cloud_cover** - cloud cover measurement in oktas - (**float**)\n",
        "- **sunshine** - sunshine measurement in hours (hrs) - (**float**)\n",
        "- **global_radiation** - irradiance measurement in Watt per square meter (W/m2) - (**float**)\n",
        "- **max_temp** - maximum temperature recorded in degrees Celsius (°C) - (**float**)\n",
        "- **mean_temp** - **target** mean temperature in degrees Celsius (°C) - (**float**)\n",
        "- **min_temp** - minimum temperature recorded in degrees Celsius (°C) - (**float**)\n",
        "- **precipitation** - precipitation measurement in millimeters (mm) - (**float**)\n",
        "- **pressure** - pressure measurement in Pascals (Pa) - (**float**)\n",
        "- **snow_depth** - snow depth measurement in centimeters (cm) - (**float**)"
      ],
      "metadata": {
        "id": "21503acd-6cbf-40a4-ad05-853a5da28fb7"
      },
      "id": "21503acd-6cbf-40a4-ad05-853a5da28fb7",
      "cell_type": "markdown"
    },
    {
      "source": [
        "# Run this cell to install mlflow\n",
        "!pip install mlflow"
      ],
      "metadata": {
        "executionCancelledAt": null,
        "executionTime": 3723,
        "lastExecutedAt": 1734901898388,
        "lastExecutedByKernel": "2ea51233-4e77-4b70-bce2-fe3651aeab01",
        "lastScheduledRunId": null,
        "lastSuccessfullyExecutedCode": "# Run this cell to install mlflow\n!pip install mlflow",
        "outputsMetadata": {
          "0": {
            "height": 616,
            "type": "stream"
          }
        },
        "id": "3fac012d-6719-43dc-bf15-e152678e86d9",
        "outputId": "e9f37845-6527-45da-c37e-be8da2296559"
      },
      "id": "3fac012d-6719-43dc-bf15-e152678e86d9",
      "cell_type": "code",
      "execution_count": null,
      "outputs": [
        {
          "output_type": "stream",
          "name": "stdout",
          "text": "Defaulting to user installation because normal site-packages is not writeable\nRequirement already satisfied: mlflow in /usr/local/lib/python3.8/dist-packages (2.8.1)\nRequirement already satisfied: click<9,>=7.0 in /usr/local/lib/python3.8/dist-packages (from mlflow) (8.1.3)\nRequirement already satisfied: cloudpickle<3 in /usr/local/lib/python3.8/dist-packages (from mlflow) (2.1.0)\nRequirement already satisfied: databricks-cli<1,>=0.8.7 in /usr/local/lib/python3.8/dist-packages (from mlflow) (0.17.6)\nRequirement already satisfied: entrypoints<1 in /usr/local/lib/python3.8/dist-packages (from mlflow) (0.4)\nRequirement already satisfied: gitpython<4,>=2.1.0 in /usr/local/lib/python3.8/dist-packages (from mlflow) (3.1.27)\nRequirement already satisfied: pyyaml<7,>=5.1 in /usr/local/lib/python3.8/dist-packages (from mlflow) (6.0.1)\nRequirement already satisfied: protobuf<5,>=3.12.0 in /usr/local/lib/python3.8/dist-packages (from mlflow) (3.19.4)\nRequirement already satisfied: pytz<2024 in /usr/local/lib/python3.8/dist-packages (from mlflow) (2022.7)\nRequirement already satisfied: requests<3,>=2.17.3 in /usr/local/lib/python3.8/dist-packages (from mlflow) (2.31.0)\nRequirement already satisfied: packaging<24 in /usr/local/lib/python3.8/dist-packages (from mlflow) (23.2)\nRequirement already satisfied: importlib-metadata!=4.7.0,<7,>=3.7.0 in /usr/local/lib/python3.8/dist-packages (from mlflow) (6.8.0)\nRequirement already satisfied: sqlparse<1,>=0.4.0 in /usr/local/lib/python3.8/dist-packages (from mlflow) (0.4.3)\nRequirement already satisfied: alembic!=1.10.0,<2 in /usr/local/lib/python3.8/dist-packages (from mlflow) (1.12.1)\nRequirement already satisfied: docker<7,>=4.0.0 in /usr/local/lib/python3.8/dist-packages (from mlflow) (5.0.3)\nRequirement already satisfied: Flask<4 in /usr/local/lib/python3.8/dist-packages (from mlflow) (2.2.2)\nRequirement already satisfied: numpy<2 in /usr/local/lib/python3.8/dist-packages (from mlflow) (1.23.2)\nRequirement already satisfied: scipy<2 in /usr/local/lib/python3.8/dist-packages (from mlflow) (1.9.0)\nRequirement already satisfied: pandas<3 in /usr/local/lib/python3.8/dist-packages (from mlflow) (1.5.1)\nRequirement already satisfied: querystring-parser<2 in /usr/local/lib/python3.8/dist-packages (from mlflow) (1.2.4)\nRequirement already satisfied: sqlalchemy<3,>=1.4.0 in /usr/local/lib/python3.8/dist-packages (from mlflow) (1.4.40)\nRequirement already satisfied: scikit-learn<2 in /usr/local/lib/python3.8/dist-packages (from mlflow) (1.2.2)\nRequirement already satisfied: pyarrow<15,>=4.0.0 in /usr/local/lib/python3.8/dist-packages (from mlflow) (7.0.0)\nRequirement already satisfied: markdown<4,>=3.3 in /usr/local/lib/python3.8/dist-packages (from mlflow) (3.4.1)\nRequirement already satisfied: matplotlib<4 in /usr/local/lib/python3.8/dist-packages (from mlflow) (3.6.3)\nRequirement already satisfied: gunicorn<22 in /usr/local/lib/python3.8/dist-packages (from mlflow) (21.2.0)\nRequirement already satisfied: Jinja2<4,>=2.11 in /usr/local/lib/python3.8/dist-packages (from mlflow) (3.1.2)\nRequirement already satisfied: Mako in /usr/local/lib/python3.8/dist-packages (from alembic!=1.10.0,<2->mlflow) (1.3.0)\nRequirement already satisfied: typing-extensions>=4 in /usr/local/lib/python3.8/dist-packages (from alembic!=1.10.0,<2->mlflow) (4.12.2)\nRequirement already satisfied: importlib-resources in /usr/local/lib/python3.8/dist-packages (from alembic!=1.10.0,<2->mlflow) (5.10.0)\nRequirement already satisfied: pyjwt>=1.7.0 in /usr/local/lib/python3.8/dist-packages (from databricks-cli<1,>=0.8.7->mlflow) (2.1.0)\nRequirement already satisfied: oauthlib>=3.1.0 in /usr/local/lib/python3.8/dist-packages (from databricks-cli<1,>=0.8.7->mlflow) (3.2.0)\nRequirement already satisfied: tabulate>=0.7.7 in /usr/local/lib/python3.8/dist-packages (from databricks-cli<1,>=0.8.7->mlflow) (0.8.10)\nRequirement already satisfied: six>=1.10.0 in /usr/lib/python3/dist-packages (from databricks-cli<1,>=0.8.7->mlflow) (1.14.0)\nRequirement already satisfied: websocket-client>=0.32.0 in /usr/local/lib/python3.8/dist-packages (from docker<7,>=4.0.0->mlflow) (1.8.0)\nRequirement already satisfied: Werkzeug>=2.2.2 in /usr/local/lib/python3.8/dist-packages (from Flask<4->mlflow) (2.2.2)\nRequirement already satisfied: itsdangerous>=2.0 in /usr/local/lib/python3.8/dist-packages (from Flask<4->mlflow) (2.1.2)\nRequirement already satisfied: gitdb<5,>=4.0.1 in /usr/local/lib/python3.8/dist-packages (from gitpython<4,>=2.1.0->mlflow) (4.0.9)\nRequirement already satisfied: zipp>=0.5 in /usr/local/lib/python3.8/dist-packages (from importlib-metadata!=4.7.0,<7,>=3.7.0->mlflow) (3.8.1)\nRequirement already satisfied: MarkupSafe>=2.0 in /usr/local/lib/python3.8/dist-packages (from Jinja2<4,>=2.11->mlflow) (2.1.1)\nRequirement already satisfied: contourpy>=1.0.1 in /usr/local/lib/python3.8/dist-packages (from matplotlib<4->mlflow) (1.0.6)\nRequirement already satisfied: cycler>=0.10 in /usr/local/lib/python3.8/dist-packages (from matplotlib<4->mlflow) (0.11.0)\nRequirement already satisfied: fonttools>=4.22.0 in /usr/local/lib/python3.8/dist-packages (from matplotlib<4->mlflow) (4.37.1)\nRequirement already satisfied: kiwisolver>=1.0.1 in /usr/local/lib/python3.8/dist-packages (from matplotlib<4->mlflow) (1.4.4)\nRequirement already satisfied: pillow>=6.2.0 in /usr/local/lib/python3.8/dist-packages (from matplotlib<4->mlflow) (9.2.0)\nRequirement already satisfied: pyparsing>=2.2.1 in /usr/local/lib/python3.8/dist-packages (from matplotlib<4->mlflow) (3.0.9)\nRequirement already satisfied: python-dateutil>=2.7 in /usr/local/lib/python3.8/dist-packages (from matplotlib<4->mlflow) (2.8.2)\nRequirement already satisfied: charset-normalizer<4,>=2 in /usr/local/lib/python3.8/dist-packages (from requests<3,>=2.17.3->mlflow) (2.0.12)\nRequirement already satisfied: idna<4,>=2.5 in /usr/lib/python3/dist-packages (from requests<3,>=2.17.3->mlflow) (2.8)\nRequirement already satisfied: urllib3<3,>=1.21.1 in /usr/lib/python3/dist-packages (from requests<3,>=2.17.3->mlflow) (1.25.8)\nRequirement already satisfied: certifi>=2017.4.17 in /usr/lib/python3/dist-packages (from requests<3,>=2.17.3->mlflow) (2019.11.28)\nRequirement already satisfied: joblib>=1.1.1 in /usr/local/lib/python3.8/dist-packages (from scikit-learn<2->mlflow) (1.3.2)\nRequirement already satisfied: threadpoolctl>=2.0.0 in /usr/local/lib/python3.8/dist-packages (from scikit-learn<2->mlflow) (3.1.0)\nRequirement already satisfied: greenlet!=0.4.17 in /usr/local/lib/python3.8/dist-packages (from sqlalchemy<3,>=1.4.0->mlflow) (1.1.3)\nRequirement already satisfied: smmap<6,>=3.0.1 in /usr/local/lib/python3.8/dist-packages (from gitdb<5,>=4.0.1->gitpython<4,>=2.1.0->mlflow) (5.0.0)\n"
        }
      ]
    },
    {
      "source": [
        "import pandas as pd\n",
        "import numpy as np\n",
        "import mlflow\n",
        "import mlflow.sklearn\n",
        "import matplotlib.pyplot as plt\n",
        "import seaborn as sns\n",
        "from sklearn.model_selection import train_test_split\n",
        "from sklearn.metrics import mean_squared_error\n",
        "from sklearn.impute import SimpleImputer\n",
        "from sklearn.preprocessing import StandardScaler\n",
        "from sklearn.linear_model import LinearRegression\n",
        "from sklearn.tree import DecisionTreeRegressor\n",
        "from sklearn.ensemble import RandomForestRegressor\n",
        "\n",
        "# Read in the data\n",
        "weather = pd.read_csv(\"london_weather.csv\")\n",
        "\n",
        "# Show the first few rows to inspect the data\n",
        "print(weather.head())\n",
        "\n",
        "# Handle missing values\n",
        "imputer = SimpleImputer(strategy=\"mean\")\n",
        "weather_imputed = pd.DataFrame(imputer.fit_transform(weather))\n",
        "\n",
        "# Assign column names after imputation\n",
        "weather_imputed.columns = weather.columns\n",
        "\n",
        "# Features and target\n",
        "X = weather_imputed.drop(columns=[\"mean_temp\", \"date\"])  # Drop 'mean_temp' (target) and 'date'\n",
        "y = weather_imputed[\"mean_temp\"]\n",
        "\n",
        "# Split the data into training and testing sets\n",
        "X_train, X_test, y_train, y_test = train_test_split(X, y, test_size=0.2, random_state=42)\n",
        "\n",
        "# Scale the features using StandardScaler\n",
        "scaler = StandardScaler()\n",
        "X_train_scaled = scaler.fit_transform(X_train)\n",
        "X_test_scaled = scaler.transform(X_test)\n",
        "\n",
        "# MLflow setup: Start tracking experiment\n",
        "mlflow.set_experiment(\"London_Weather_Prediction\")\n",
        "\n",
        "# Function to log the model and RMSE\n",
        "def log_model_and_rmse(model, model_name):\n",
        "    # Predict and calculate RMSE\n",
        "    y_pred = model.predict(X_test_scaled)\n",
        "    rmse = np.sqrt(mean_squared_error(y_test, y_pred))\n",
        "\n",
        "    # Log the model and RMSE\n",
        "    with mlflow.start_run():\n",
        "        mlflow.log_param(\"model\", model_name)\n",
        "        mlflow.log_metric(\"rmse\", rmse)\n",
        "        mlflow.sklearn.log_model(model, model_name)\n",
        "\n",
        "    return rmse\n",
        "\n",
        "# Linear Regression Model\n",
        "lr_model = LinearRegression()\n",
        "lr_model.fit(X_train_scaled, y_train)\n",
        "lr_rmse = log_model_and_rmse(lr_model, \"Linear_Regression\")\n",
        "\n",
        "# Decision Tree Regressor Model\n",
        "dt_model = DecisionTreeRegressor(random_state=42)\n",
        "dt_model.fit(X_train_scaled, y_train)\n",
        "dt_rmse = log_model_and_rmse(dt_model, \"Decision_Tree_Regressor\")\n",
        "\n",
        "# Random Forest Regressor Model\n",
        "rf_model = RandomForestRegressor(n_estimators=100, random_state=42)\n",
        "rf_model.fit(X_train_scaled, y_train)\n",
        "rf_rmse = log_model_and_rmse(rf_model, \"Random_Forest_Regressor\")\n",
        "\n",
        "# Displaying the RMSE for each model\n",
        "print(f\"Linear Regression RMSE: {lr_rmse}\")\n",
        "print(f\"Decision Tree RMSE: {dt_rmse}\")\n",
        "print(f\"Random Forest RMSE: {rf_rmse}\")\n",
        "\n",
        "# Search for all runs to get the results\n",
        "experiment_results = mlflow.search_runs()\n",
        "print(experiment_results[[\"run_id\", \"metrics.rmse\"]])\n",
        "\n",
        "# The best model is the one with the lowest RMSE\n",
        "best_model = min([(lr_rmse, \"Linear_Regression\"),\n",
        "                  (dt_rmse, \"Decision_Tree_Regressor\"),\n",
        "                  (rf_rmse, \"Random_Forest_Regressor\")], key=lambda x: x[0])\n",
        "\n",
        "print(f\"Best Model: {best_model[1]} with RMSE: {best_model[0]}\")\n"
      ],
      "metadata": {
        "executionCancelledAt": null,
        "executionTime": 23017,
        "lastExecutedAt": 1734901921407,
        "lastScheduledRunId": null,
        "lastSuccessfullyExecutedCode": "import pandas as pd\nimport numpy as np\nimport mlflow\nimport mlflow.sklearn\nimport matplotlib.pyplot as plt\nimport seaborn as sns\nfrom sklearn.model_selection import train_test_split\nfrom sklearn.metrics import mean_squared_error\nfrom sklearn.impute import SimpleImputer\nfrom sklearn.preprocessing import StandardScaler\nfrom sklearn.linear_model import LinearRegression\nfrom sklearn.tree import DecisionTreeRegressor\nfrom sklearn.ensemble import RandomForestRegressor\n\n# Read in the data\nweather = pd.read_csv(\"london_weather.csv\")\n\n# Show the first few rows to inspect the data\nprint(weather.head())\n\n# Handle missing values\nimputer = SimpleImputer(strategy=\"mean\")\nweather_imputed = pd.DataFrame(imputer.fit_transform(weather))\n\n# Assign column names after imputation\nweather_imputed.columns = weather.columns\n\n# Features and target\nX = weather_imputed.drop(columns=[\"mean_temp\", \"date\"])  # Drop 'mean_temp' (target) and 'date'\ny = weather_imputed[\"mean_temp\"]\n\n# Split the data into training and testing sets\nX_train, X_test, y_train, y_test = train_test_split(X, y, test_size=0.2, random_state=42)\n\n# Scale the features using StandardScaler\nscaler = StandardScaler()\nX_train_scaled = scaler.fit_transform(X_train)\nX_test_scaled = scaler.transform(X_test)\n\n# MLflow setup: Start tracking experiment\nmlflow.set_experiment(\"London_Weather_Prediction\")\n\n# Function to log the model and RMSE\ndef log_model_and_rmse(model, model_name):\n    # Predict and calculate RMSE\n    y_pred = model.predict(X_test_scaled)\n    rmse = np.sqrt(mean_squared_error(y_test, y_pred))\n    \n    # Log the model and RMSE\n    with mlflow.start_run():\n        mlflow.log_param(\"model\", model_name)\n        mlflow.log_metric(\"rmse\", rmse)\n        mlflow.sklearn.log_model(model, model_name)\n    \n    return rmse\n\n# Linear Regression Model\nlr_model = LinearRegression()\nlr_model.fit(X_train_scaled, y_train)\nlr_rmse = log_model_and_rmse(lr_model, \"Linear_Regression\")\n\n# Decision Tree Regressor Model\ndt_model = DecisionTreeRegressor(random_state=42)\ndt_model.fit(X_train_scaled, y_train)\ndt_rmse = log_model_and_rmse(dt_model, \"Decision_Tree_Regressor\")\n\n# Random Forest Regressor Model\nrf_model = RandomForestRegressor(n_estimators=100, random_state=42)\nrf_model.fit(X_train_scaled, y_train)\nrf_rmse = log_model_and_rmse(rf_model, \"Random_Forest_Regressor\")\n\n# Displaying the RMSE for each model\nprint(f\"Linear Regression RMSE: {lr_rmse}\")\nprint(f\"Decision Tree RMSE: {dt_rmse}\")\nprint(f\"Random Forest RMSE: {rf_rmse}\")\n\n# Search for all runs to get the results\nexperiment_results = mlflow.search_runs()\nprint(experiment_results[[\"run_id\", \"metrics.rmse\"]])\n\n# The best model is the one with the lowest RMSE\nbest_model = min([(lr_rmse, \"Linear_Regression\"), \n                  (dt_rmse, \"Decision_Tree_Regressor\"), \n                  (rf_rmse, \"Random_Forest_Regressor\")], key=lambda x: x[0])\n\nprint(f\"Best Model: {best_model[1]} with RMSE: {best_model[0]}\")\n",
        "lastExecutedByKernel": "2ea51233-4e77-4b70-bce2-fe3651aeab01",
        "outputsMetadata": {
          "0": {
            "height": 38,
            "type": "stream"
          },
          "1": {
            "height": 353,
            "type": "stream"
          }
        },
        "id": "3976d816-6d2e-41b5-bd2f-3eac2729c5ce",
        "outputId": "8ec5516a-b721-4523-bc63-50cf09cb3205"
      },
      "id": "3976d816-6d2e-41b5-bd2f-3eac2729c5ce",
      "cell_type": "code",
      "execution_count": null,
      "outputs": [
        {
          "output_type": "stream",
          "name": "stderr",
          "text": "2024/12/22 21:11:43 INFO mlflow.tracking.fluent: Experiment with name 'London_Weather_Prediction' does not exist. Creating a new experiment.\n"
        },
        {
          "output_type": "stream",
          "name": "stdout",
          "text": "       date  cloud_cover  sunshine  ...  precipitation  pressure  snow_depth\n0  19790101          2.0       7.0  ...            0.4  101900.0         9.0\n1  19790102          6.0       1.7  ...            0.0  102530.0         8.0\n2  19790103          5.0       0.0  ...            0.0  102050.0         4.0\n3  19790104          8.0       0.0  ...            0.0  100840.0         2.0\n4  19790105          6.0       2.0  ...            0.0  102250.0         1.0\n\n[5 rows x 10 columns]\nLinear Regression RMSE: 0.9166133728599348\nDecision Tree RMSE: 1.2706354827458726\nRandom Forest RMSE: 0.9166267459704752\n                             run_id  metrics.rmse\n0  ebd6c380400d47df9886f27b2f0e5c38      0.916627\n1  f8773392a03c490aa1b32265f986097b      1.270635\n2  670d5572330d415a8947133990dc01c5      0.916613\nBest Model: Linear_Regression with RMSE: 0.9166133728599348\n"
        }
      ]
    }
  ],
  "metadata": {
    "colab": {
      "provenance": []
    },
    "kernelspec": {
      "display_name": "Python 3 (ipykernel)",
      "language": "python",
      "name": "python3"
    },
    "language_info": {
      "codemirror_mode": {
        "name": "ipython",
        "version": 3
      },
      "file_extension": ".py",
      "mimetype": "text/x-python",
      "name": "python",
      "nbconvert_exporter": "python",
      "pygments_lexer": "ipython3",
      "version": "3.8.10"
    }
  },
  "nbformat": 4,
  "nbformat_minor": 5
}